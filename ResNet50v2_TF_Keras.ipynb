{
  "nbformat": 4,
  "nbformat_minor": 0,
  "metadata": {
    "colab": {
      "name": "ResNet50v2_TF-Keras.ipynb",
      "provenance": [],
      "machine_shape": "hm",
      "collapsed_sections": [
        "Vss3jYNpfphq"
      ],
      "include_colab_link": true
    },
    "kernelspec": {
      "name": "python3",
      "display_name": "Python 3"
    },
    "language_info": {
      "name": "python"
    },
    "accelerator": "GPU"
  },
  "cells": [
    {
      "cell_type": "markdown",
      "metadata": {
        "id": "view-in-github",
        "colab_type": "text"
      },
      "source": [
        "<a href=\"https://colab.research.google.com/github/eteral00/UNT_CSCE5218_Project_DogsBreeds/blob/main/ResNet50v2_TF_Keras.ipynb\" target=\"_parent\"><img src=\"https://colab.research.google.com/assets/colab-badge.svg\" alt=\"Open In Colab\"/></a>"
      ]
    },
    {
      "cell_type": "markdown",
      "source": [
        "# Import libraries/packages"
      ],
      "metadata": {
        "id": "CJFvOfJof2Vs"
      }
    },
    {
      "cell_type": "code",
      "execution_count": 28,
      "metadata": {
        "id": "sOpNMBS754Z2"
      },
      "outputs": [],
      "source": [
        "import cv2\n",
        "import numpy as np\n",
        "import pandas as pd\n",
        "import shutil\n",
        "import os\n",
        "from PIL import Image\n",
        "import matplotlib.pyplot as plt\n",
        "from sklearn.model_selection import train_test_split\n",
        "\n",
        "\n"
      ]
    },
    {
      "cell_type": "markdown",
      "source": [
        "# Handling data"
      ],
      "metadata": {
        "id": "OjfTsPHlfi4F"
      }
    },
    {
      "cell_type": "markdown",
      "source": [
        "### Mounting GoogleDrive"
      ],
      "metadata": {
        "id": "LilAGBybfqqa"
      }
    },
    {
      "cell_type": "code",
      "source": [
        "from google.colab import drive\n",
        "drive.mount('/content/drive')"
      ],
      "metadata": {
        "colab": {
          "base_uri": "https://localhost:8080/"
        },
        "id": "GA3w_78rfkd5",
        "outputId": "78283e43-3bf8-4f70-b704-04277f417074"
      },
      "execution_count": 29,
      "outputs": [
        {
          "output_type": "stream",
          "name": "stdout",
          "text": [
            "Drive already mounted at /content/drive; to attempt to forcibly remount, call drive.mount(\"/content/drive\", force_remount=True).\n"
          ]
        }
      ]
    },
    {
      "cell_type": "markdown",
      "source": [
        "## Dataset: Tsinghua Dogs:\n",
        "Main link: https://cg.cs.tsinghua.edu.cn/ThuDogs/ \\\\\n",
        "Lower resolution version (~2.5GBs): https://cloud.tsinghua.edu.cn/f/80013ef29c5f42728fc8/"
      ],
      "metadata": {
        "id": "Vss3jYNpfphq"
      }
    },
    {
      "cell_type": "markdown",
      "source": [
        "## Decompress"
      ],
      "metadata": {
        "id": "VTegpcshfzUz"
      }
    },
    {
      "cell_type": "code",
      "source": [
        "!unzip \"/content/drive/MyDrive/CSCE5218/Dog_Breed_classification/Dog_Breed_dataset/Tshihua/low-resolution.zip\" -d \"/content/\"\n",
        "!unzip \"/content/drive/MyDrive/CSCE5218/Dog_Breed_classification/Dog_Breed_dataset/Tshihua/TrainValSplit.zip\" -d \"/content/\""
      ],
      "metadata": {
        "colab": {
          "base_uri": "https://localhost:8080/"
        },
        "id": "9JQ2GKc4Yo3k",
        "outputId": "4b29c2e7-78c9-4f53-b665-722b1e912ee2"
      },
      "execution_count": 30,
      "outputs": [
        {
          "output_type": "stream",
          "name": "stdout",
          "text": [
            "Archive:  /content/drive/MyDrive/CSCE5218/Dog_Breed_classification/Dog_Breed_dataset/Tshihua/low-resolution.zip\n",
            "replace /content/low-resolution/1043-n000001-Shiba_Dog/n100001.jpeg? [y]es, [n]o, [A]ll, [N]one, [r]ename: N\n",
            "N\n",
            "Archive:  /content/drive/MyDrive/CSCE5218/Dog_Breed_classification/Dog_Breed_dataset/Tshihua/TrainValSplit.zip\n",
            "replace /content/TrainAndValList/train.lst? [y]es, [n]o, [A]ll, [N]one, [r]ename: N\n"
          ]
        }
      ]
    },
    {
      "cell_type": "markdown",
      "source": [
        "## Preprocess data"
      ],
      "metadata": {
        "id": "VB6oMfRNhW0T"
      }
    },
    {
      "cell_type": "code",
      "source": [
        "def read_image(path, size):\n",
        "    image = cv2.imread(path, cv2.IMREAD_COLOR)\n",
        "    image = cv2.resize(image, (size, size))\n",
        "    image = image / 255.0\n",
        "    image = image.astype(np.float32)\n",
        "    return image\n"
      ],
      "metadata": {
        "id": "FIv3BxNoG9Jn"
      },
      "execution_count": 4,
      "outputs": []
    },
    {
      "cell_type": "code",
      "source": [
        "def parse_data(x, y):\n",
        "    x = x.decode()\n",
        "\n",
        "    num_class = 130\n",
        "    size = 256\n",
        "\n",
        "    image = read_image(x, size)\n",
        "    label = [0] * num_class\n",
        "    label[y] = 1\n",
        "    label = np.array(label)\n",
        "    label = label.astype(np.int32)\n",
        "\n",
        "    return image, label"
      ],
      "metadata": {
        "id": "SL_xMs1tXkxB"
      },
      "execution_count": 5,
      "outputs": []
    },
    {
      "cell_type": "code",
      "source": [
        "def tf_parse(x, y):\n",
        "    x, y = tf.numpy_function(parse_data, [x, y], [tf.float32, tf.int32])\n",
        "    x.set_shape((256, 256, 3))\n",
        "    y.set_shape((130))\n",
        "    return x, y"
      ],
      "metadata": {
        "id": "caeXgc4mXn9u"
      },
      "execution_count": 6,
      "outputs": []
    },
    {
      "cell_type": "code",
      "source": [
        "def tf_dataset(x, y, batch=8):\n",
        "    dataset = tf.data.Dataset.from_tensor_slices((x, y))\n",
        "    dataset = dataset.map(tf_parse)\n",
        "    dataset = dataset.batch(batch)\n",
        "    dataset = dataset.repeat()\n",
        "    return dataset"
      ],
      "metadata": {
        "id": "2jPUVnRMXrCz"
      },
      "execution_count": 7,
      "outputs": []
    },
    {
      "cell_type": "markdown",
      "source": [
        "## Split to Train/Val (here Val=Test set)"
      ],
      "metadata": {
        "id": "z2WOSaUsh9__"
      }
    },
    {
      "cell_type": "code",
      "source": [
        "import argparse\n",
        "import os\n",
        "import shutil\n",
        "import logging\n",
        "import sys\n",
        "import glob\n",
        "from typing import Dict, Any, Set\n",
        "\n",
        "def split_train_val(images_dir: str, output_dir: str, lst_path: str):\n",
        "    with open(lst_path, \"r\") as f:\n",
        "        lst: Set[str] = set([os.path.basename(line.strip()) for line in f.readlines()])\n",
        "\n",
        "    for image_name in lst:\n",
        "        image_path: str = glob.glob(os.path.join(images_dir, \"*\", image_name), recursive=True)[0]\n",
        "        class_name: str = os.path.basename(os.path.dirname(image_path))\n",
        "\n",
        "        dest_dir: str = os.path.join(output_dir, class_name)\n",
        "        os.makedirs(dest_dir, exist_ok=True)\n",
        "\n",
        "        logging.info(f\"Copying {image_path} to {dest_dir}\")\n",
        "        shutil.copy(image_path, dest_dir)"
      ],
      "metadata": {
        "id": "VAKLO9owJJ8c"
      },
      "execution_count": 8,
      "outputs": []
    },
    {
      "cell_type": "code",
      "source": [
        "## data directory paths\n",
        "TSINGHUA_DOGS_ROOT_DIR = \"/content/drive/MyDrive/CSCE5218/Dog_Breed_classification\"\n",
        "content_root = \"/content\"\n",
        "images_dir: str = os.path.join(content_root, \"low-resolution\")\n",
        "train_lst_path: str = os.path.join(content_root, \"TrainAndValList\", \"train.lst\")\n",
        "val_lst_path: str = os.path.join(content_root, \"TrainAndValList\", \"validation.lst\")\n"
      ],
      "metadata": {
        "id": "LFvpiwveJLCL"
      },
      "execution_count": 9,
      "outputs": []
    },
    {
      "cell_type": "markdown",
      "source": [
        "### \\* Storing splited sets in GGDrive"
      ],
      "metadata": {
        "id": "ld8va3Ge_XWM"
      }
    },
    {
      "cell_type": "code",
      "source": [
        "## Only run this once if putting data in shared folder on ggdrive\n",
        "\n",
        "# #Prepare train set\n",
        "# train_dir: str = os.path.join(TSINGHUA_DOGS_ROOT_DIR, \"train\")\n",
        "# os.makedirs(train_dir, exist_ok=True)\n",
        "# split_train_val(images_dir, output_dir=train_dir, lst_path=train_lst_path)\n",
        "\n",
        "# #Prepare validation set\n",
        "# val_dir: str = os.path.join(TSINGHUA_DOGS_ROOT_DIR, \"val\")\n",
        "# os.makedirs(val_dir, exist_ok=True)\n",
        "# split_train_val(images_dir, output_dir=val_dir, lst_path=val_lst_path)"
      ],
      "metadata": {
        "id": "3c7AUacQidnC"
      },
      "execution_count": 10,
      "outputs": []
    },
    {
      "cell_type": "markdown",
      "source": [
        "### \\* Storing splited sets in temporary directory of runtime"
      ],
      "metadata": {
        "id": "iNndxjW5_fL2"
      }
    },
    {
      "cell_type": "code",
      "source": [
        "##If putting data in temporary runtime directory, need to rerun this every time\n",
        "\n",
        "##Prepare train set\n",
        "train_dir: str = os.path.join(content_root, \"train\")\n",
        "os.makedirs(train_dir, exist_ok=True)\n",
        "split_train_val(images_dir, output_dir=train_dir, lst_path=train_lst_path)\n",
        "\n",
        "##Prepare test set\n",
        "val_dir: str = os.path.join(content_root, \"val\")\n",
        "os.makedirs(val_dir, exist_ok=True)\n",
        "split_train_val(images_dir, output_dir=val_dir, lst_path=val_lst_path)"
      ],
      "metadata": {
        "id": "tIcRjx2TienK"
      },
      "execution_count": 11,
      "outputs": []
    },
    {
      "cell_type": "code",
      "source": [
        "path = \"/content\"\n",
        "train_path = os.path.join(path, \"train/*\")\n",
        "test_path = os.path.join(path, \"val/*\")\n",
        "\n",
        "train_dirs = glob.glob(train_path)\n",
        "label_names = []\n",
        "ids = []\n",
        "for image_dir in train_dirs:\n",
        "    basename = os.path.basename(image_dir)\n",
        "    breed_name = basename.split(\"-\")[2]\n",
        "    for image in glob.glob(image_dir + \"/*\"):\n",
        "      ids.append(image)\n",
        "      label_names.append(breed_name)"
      ],
      "metadata": {
        "id": "m07IGKxOYJRO"
      },
      "execution_count": 27,
      "outputs": []
    },
    {
      "cell_type": "code",
      "source": [
        "from sklearn import preprocessing\n",
        "\n",
        "le = preprocessing.LabelEncoder()\n",
        "le.fit(label_names)\n",
        "labels = le.transform(label_names)"
      ],
      "metadata": {
        "id": "WAVvwLK5M0VM"
      },
      "execution_count": 13,
      "outputs": []
    },
    {
      "cell_type": "code",
      "source": [
        "from sklearn.model_selection import train_test_split\n",
        "\n",
        "x_train, x_test, y_train, y_test = train_test_split(ids, labels, test_size=0.2, random_state=42)"
      ],
      "metadata": {
        "id": "pjqLtpHscOQ2"
      },
      "execution_count": 14,
      "outputs": []
    },
    {
      "cell_type": "markdown",
      "source": [
        "# Defining Neural Network model(s)"
      ],
      "metadata": {
        "id": "NlC6SFOGlFcp"
      }
    },
    {
      "cell_type": "markdown",
      "source": [
        "## Define a function to build a ResNet from a pretrained model in library (ResNet50)"
      ],
      "metadata": {
        "id": "5YTVAEPph0YA"
      }
    },
    {
      "cell_type": "code",
      "source": [
        "\n",
        "import tensorflow as tf\n",
        "from tensorflow import keras\n",
        "\n",
        "from keras.models import Sequential\n",
        "from keras.layers import Conv2D,MaxPooling2D,GlobalAveragePooling2D,Dense,Flatten,Dropout,AvgPool2D\n",
        "from tensorflow.keras.layers import BatchNormalization\n",
        "from keras.constraints import unit_norm\n",
        "from keras import regularizers\n",
        "from tensorflow.keras.applications.inception_v3 import InceptionV3\n",
        "from tensorflow.keras.applications.resnet_v2 import ResNet50V2, preprocess_input\n",
        "from tensorflow.keras.models import load_model, Model\n",
        "\n",
        "\n",
        "# function to import a pretrained ResNet from Tensorflow/Keras\n",
        "def build_model(size, num_classes):\n",
        "  resnet = ResNet50V2(input_shape = [256,256,3], weights='imagenet', include_top=False)\n",
        "  #freeze all trainable layers and train only top layers \n",
        "  for layer in resnet.layers:\n",
        "      layer.trainable = False\n",
        "  \n",
        "  #add global average pooling layer and Batch Normalization layer\n",
        "  x = resnet.output\n",
        "  x = BatchNormalization()(x)\n",
        "  x = GlobalAveragePooling2D()(x)\n",
        "  x = Dropout(0.2)(x)\n",
        "  #add fully connected layer\n",
        "  x = Dense(1024, activation='relu')(x)\n",
        "  x = Dropout(0.2)(x)\n",
        "  predictions = Dense(num_classes, activation='softmax')(x)\n",
        "  \n",
        "  model = Model(inputs=resnet.input, outputs=predictions)\n",
        "  return model"
      ],
      "metadata": {
        "id": "gcmTaYmaqCeP"
      },
      "execution_count": 15,
      "outputs": []
    },
    {
      "cell_type": "markdown",
      "source": [
        "## Setting up train functions & utilities"
      ],
      "metadata": {
        "id": "Wz27ROg5kzmD"
      }
    },
    {
      "cell_type": "code",
      "source": [
        "from tensorflow.keras.optimizers import RMSprop\n",
        "from tensorflow.keras.callbacks import ModelCheckpoint, ReduceLROnPlateau\n",
        "\n",
        "## Parameters\n",
        "size = 256\n",
        "num_classes = 130\n",
        "lr = 1e-3\n",
        "batch = 100\n",
        "\n",
        "## Model\n",
        "model = build_model(size, num_classes)\n",
        "#using RMSprop optimizer to compile or build the model\n",
        "optimizer = RMSprop(learning_rate=lr,rho=0.9)\n",
        "model.compile(optimizer=optimizer,\n",
        "              loss='categorical_crossentropy',\n",
        "              metrics=[\"accuracy\"])\n",
        "# model.summary()\n",
        "\n",
        "# path to store model & its checkpoints\n",
        "# model_store_path = \"/content/drive/MyDrive/Dog_Breed_classification/Models/resnet50v2_tsinghua.h5\"\n",
        "model_store_path = \"/content/drive/MyDrive/CSCE5218/Dog_Breed_classification/Models/resnet50v2_tsinghua.h5\"\n",
        "\n",
        "# path when storing on runtime temporary directory\n",
        "# model_store_path = \"/content/output/resnet50v2_tsinghua.h5\"\n",
        "\n",
        "\n",
        "## Training\n",
        "callbacks = [\n",
        "    ModelCheckpoint(model_store_path, verbose=1, save_best_only=True),\n",
        "    ReduceLROnPlateau(factor=0.1, patience=5, min_lr=1e-6)\n",
        "]\n",
        "## Dataset\n",
        "train_dataset = tf_dataset(x_train, y_train, batch=batch)\n",
        "valid_dataset = tf_dataset(x_test, y_test, batch=batch)"
      ],
      "metadata": {
        "id": "pnAvTUXXkwaz"
      },
      "execution_count": 31,
      "outputs": []
    },
    {
      "cell_type": "markdown",
      "source": [
        "## Calling the train function"
      ],
      "metadata": {
        "id": "B3wmgWuplju2"
      }
    },
    {
      "cell_type": "code",
      "source": [
        "train_steps = (len(x_train)//32) + 1\n",
        "valid_steps = (len(x_test)//32) + 1\n",
        "history = model.fit(train_dataset, steps_per_epoch=train_steps, validation_steps=valid_steps, validation_data=valid_dataset,epochs=20, callbacks=callbacks)"
      ],
      "metadata": {
        "colab": {
          "base_uri": "https://localhost:8080/"
        },
        "id": "hfICqESdaNjZ",
        "outputId": "6fa43110-2a4b-481f-df90-2d04443e8392"
      },
      "execution_count": 17,
      "outputs": [
        {
          "output_type": "stream",
          "name": "stdout",
          "text": [
            "Epoch 1/20\n",
            "1631/1631 [==============================] - ETA: 0s - loss: 0.8319 - accuracy: 0.7478\n",
            "Epoch 1: val_loss improved from inf to 0.96497, saving model to /content/drive/MyDrive/Dog_Breed_classification/Models/resnet50v2_tsinghua.h5\n",
            "1631/1631 [==============================] - 948s 573ms/step - loss: 0.8319 - accuracy: 0.7478 - val_loss: 0.9650 - val_accuracy: 0.7412 - lr: 0.0010\n",
            "Epoch 2/20\n",
            "1631/1631 [==============================] - ETA: 0s - loss: 0.3602 - accuracy: 0.8810\n",
            "Epoch 2: val_loss did not improve from 0.96497\n",
            "1631/1631 [==============================] - 927s 568ms/step - loss: 0.3602 - accuracy: 0.8810 - val_loss: 1.2404 - val_accuracy: 0.7357 - lr: 0.0010\n",
            "Epoch 3/20\n",
            "1631/1631 [==============================] - ETA: 0s - loss: 0.2032 - accuracy: 0.9306\n",
            "Epoch 3: val_loss did not improve from 0.96497\n",
            "1631/1631 [==============================] - 912s 559ms/step - loss: 0.2032 - accuracy: 0.9306 - val_loss: 1.4955 - val_accuracy: 0.7338 - lr: 0.0010\n",
            "Epoch 4/20\n",
            "1631/1631 [==============================] - ETA: 0s - loss: 0.1449 - accuracy: 0.9510\n",
            "Epoch 4: val_loss did not improve from 0.96497\n",
            "1631/1631 [==============================] - 924s 567ms/step - loss: 0.1449 - accuracy: 0.9510 - val_loss: 1.7544 - val_accuracy: 0.7324 - lr: 0.0010\n",
            "Epoch 5/20\n",
            "1631/1631 [==============================] - ETA: 0s - loss: 0.1220 - accuracy: 0.9599\n",
            "Epoch 5: val_loss did not improve from 0.96497\n",
            "1631/1631 [==============================] - 927s 569ms/step - loss: 0.1220 - accuracy: 0.9599 - val_loss: 1.8984 - val_accuracy: 0.7270 - lr: 0.0010\n",
            "Epoch 6/20\n",
            "1631/1631 [==============================] - ETA: 0s - loss: 0.1043 - accuracy: 0.9665\n",
            "Epoch 6: val_loss did not improve from 0.96497\n",
            "1631/1631 [==============================] - 932s 572ms/step - loss: 0.1043 - accuracy: 0.9665 - val_loss: 2.1584 - val_accuracy: 0.7343 - lr: 0.0010\n",
            "Epoch 7/20\n",
            "1631/1631 [==============================] - ETA: 0s - loss: 0.0564 - accuracy: 0.9823\n",
            "Epoch 7: val_loss did not improve from 0.96497\n",
            "1631/1631 [==============================] - 914s 560ms/step - loss: 0.0564 - accuracy: 0.9823 - val_loss: 2.0614 - val_accuracy: 0.7440 - lr: 1.0000e-04\n",
            "Epoch 8/20\n",
            "1631/1631 [==============================] - ETA: 0s - loss: 0.0379 - accuracy: 0.9881\n",
            "Epoch 8: val_loss did not improve from 0.96497\n",
            "1631/1631 [==============================] - 909s 557ms/step - loss: 0.0379 - accuracy: 0.9881 - val_loss: 2.0887 - val_accuracy: 0.7434 - lr: 1.0000e-04\n",
            "Epoch 9/20\n",
            "1631/1631 [==============================] - ETA: 0s - loss: 0.0311 - accuracy: 0.9902\n",
            "Epoch 9: val_loss did not improve from 0.96497\n",
            "1631/1631 [==============================] - 911s 559ms/step - loss: 0.0311 - accuracy: 0.9902 - val_loss: 2.1101 - val_accuracy: 0.7463 - lr: 1.0000e-04\n",
            "Epoch 10/20\n",
            "1631/1631 [==============================] - ETA: 0s - loss: 0.0275 - accuracy: 0.9911\n",
            "Epoch 10: val_loss did not improve from 0.96497\n",
            "1631/1631 [==============================] - 932s 572ms/step - loss: 0.0275 - accuracy: 0.9911 - val_loss: 2.1299 - val_accuracy: 0.7461 - lr: 1.0000e-04\n",
            "Epoch 11/20\n",
            "1631/1631 [==============================] - ETA: 0s - loss: 0.0251 - accuracy: 0.9921\n",
            "Epoch 11: val_loss did not improve from 0.96497\n",
            "1631/1631 [==============================] - 910s 558ms/step - loss: 0.0251 - accuracy: 0.9921 - val_loss: 2.1639 - val_accuracy: 0.7465 - lr: 1.0000e-04\n",
            "Epoch 12/20\n",
            "1631/1631 [==============================] - ETA: 0s - loss: 0.0231 - accuracy: 0.9929\n",
            "Epoch 12: val_loss did not improve from 0.96497\n",
            "1631/1631 [==============================] - 909s 558ms/step - loss: 0.0231 - accuracy: 0.9929 - val_loss: 2.1623 - val_accuracy: 0.7474 - lr: 1.0000e-05\n",
            "Epoch 13/20\n",
            "1631/1631 [==============================] - ETA: 0s - loss: 0.0220 - accuracy: 0.9934\n",
            "Epoch 13: val_loss did not improve from 0.96497\n",
            "1631/1631 [==============================] - 919s 564ms/step - loss: 0.0220 - accuracy: 0.9934 - val_loss: 2.1699 - val_accuracy: 0.7469 - lr: 1.0000e-05\n",
            "Epoch 14/20\n",
            "1631/1631 [==============================] - ETA: 0s - loss: 0.0215 - accuracy: 0.9933\n",
            "Epoch 14: val_loss did not improve from 0.96497\n",
            "1631/1631 [==============================] - 914s 561ms/step - loss: 0.0215 - accuracy: 0.9933 - val_loss: 2.1689 - val_accuracy: 0.7471 - lr: 1.0000e-05\n",
            "Epoch 15/20\n",
            "1631/1631 [==============================] - ETA: 0s - loss: 0.0214 - accuracy: 0.9933\n",
            "Epoch 15: val_loss did not improve from 0.96497\n",
            "1631/1631 [==============================] - 915s 561ms/step - loss: 0.0214 - accuracy: 0.9933 - val_loss: 2.1648 - val_accuracy: 0.7483 - lr: 1.0000e-05\n",
            "Epoch 16/20\n",
            "1631/1631 [==============================] - ETA: 0s - loss: 0.0202 - accuracy: 0.9936\n",
            "Epoch 16: val_loss did not improve from 0.96497\n",
            "1631/1631 [==============================] - 910s 558ms/step - loss: 0.0202 - accuracy: 0.9936 - val_loss: 2.1808 - val_accuracy: 0.7479 - lr: 1.0000e-05\n",
            "Epoch 17/20\n",
            "1631/1631 [==============================] - ETA: 0s - loss: 0.0206 - accuracy: 0.9936\n",
            "Epoch 17: val_loss did not improve from 0.96497\n",
            "1631/1631 [==============================] - 928s 569ms/step - loss: 0.0206 - accuracy: 0.9936 - val_loss: 2.1752 - val_accuracy: 0.7487 - lr: 1.0000e-06\n",
            "Epoch 18/20\n",
            "1631/1631 [==============================] - ETA: 0s - loss: 0.0196 - accuracy: 0.9938\n",
            "Epoch 18: val_loss did not improve from 0.96497\n",
            "1631/1631 [==============================] - 934s 573ms/step - loss: 0.0196 - accuracy: 0.9938 - val_loss: 2.1718 - val_accuracy: 0.7485 - lr: 1.0000e-06\n",
            "Epoch 19/20\n",
            "1631/1631 [==============================] - ETA: 0s - loss: 0.0196 - accuracy: 0.9938\n",
            "Epoch 19: val_loss did not improve from 0.96497\n",
            "1631/1631 [==============================] - 901s 553ms/step - loss: 0.0196 - accuracy: 0.9938 - val_loss: 2.1751 - val_accuracy: 0.7486 - lr: 1.0000e-06\n",
            "Epoch 20/20\n",
            "1631/1631 [==============================] - ETA: 0s - loss: 0.0201 - accuracy: 0.9937\n",
            "Epoch 20: val_loss did not improve from 0.96497\n",
            "1631/1631 [==============================] - 939s 576ms/step - loss: 0.0201 - accuracy: 0.9937 - val_loss: 2.1692 - val_accuracy: 0.7481 - lr: 1.0000e-06\n"
          ]
        }
      ]
    },
    {
      "cell_type": "markdown",
      "source": [
        "## Plotting the results"
      ],
      "metadata": {
        "id": "okBMNK-Uls64"
      }
    },
    {
      "cell_type": "code",
      "source": [
        "import matplotlib.pyplot as plt\n",
        "history_dict = history.history\n",
        "loss_values = history_dict['loss']\n",
        "val_loss_values = history_dict['val_loss']\n",
        "\n",
        "epochs = range(1, len(loss_values) + 1)\n",
        "\n",
        "plt.figure(figsize=(14, 4))\n",
        "\n",
        "plt.subplot(1,2,1)\n",
        "plt.plot(epochs, loss_values, 'bo', label='Training Loss')\n",
        "plt.plot(epochs, val_loss_values, 'b', label='Validation Loss')\n",
        "plt.title('Training and Validation Loss')\n",
        "plt.xlabel('Epochs')\n",
        "plt.ylabel('Loss')\n",
        "plt.legend()\n",
        "\n",
        "acc = history_dict['accuracy']\n",
        "val_acc = history_dict['val_accuracy']\n",
        "\n",
        "epochs = range(1, len(loss_values) + 1)\n",
        "\n",
        "plt.subplot(1,2,2)\n",
        "plt.plot(epochs, acc, 'bo', label='Training Accuracy', c='orange')\n",
        "plt.plot(epochs, val_acc, 'b', label='Validation Accuracy', c='orange')\n",
        "plt.title('Training and Validation Accuracy')\n",
        "plt.xlabel('Epochs')\n",
        "plt.ylabel('Accuracy')\n",
        "plt.legend()"
      ],
      "metadata": {
        "id": "e3acWI9IvsVb",
        "colab": {
          "base_uri": "https://localhost:8080/",
          "height": 312
        },
        "outputId": "7515ffb3-3335-4e04-8dc2-646797b2238c"
      },
      "execution_count": 18,
      "outputs": [
        {
          "output_type": "execute_result",
          "data": {
            "text/plain": [
              "<matplotlib.legend.Legend at 0x7efe1889e090>"
            ]
          },
          "metadata": {},
          "execution_count": 18
        },
        {
          "output_type": "display_data",
          "data": {
            "text/plain": [
              "<Figure size 1008x288 with 2 Axes>"
            ],
            "image/png": "[encoded data removed]"
          },
          "metadata": {
            "needs_background": "light"
          }
        }
      ]
    },
    {
      "cell_type": "code",
      "source": [
        ""
      ],
      "metadata": {
        "id": "iNYKWWa-l_iQ"
      },
      "execution_count": 18,
      "outputs": []
    }
  ]
}